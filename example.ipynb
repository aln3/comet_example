{
 "cells": [
  {
   "cell_type": "markdown",
   "id": "1caae26d-01e7-4d6b-8e72-482aac61ea12",
   "metadata": {},
   "source": [
    "# Commet ML Example"
   ]
  },
  {
   "cell_type": "code",
   "execution_count": null,
   "id": "7b4016a0-6784-4b94-acaa-abdc50a6d4c2",
   "metadata": {},
   "outputs": [],
   "source": [
    "# Comet Spesific Imports \n",
    "from comet_ml import Experiment, Artifact"
   ]
  },
  {
   "cell_type": "code",
   "execution_count": null,
   "id": "b84cc346-b4a0-41ef-9238-7c95872aedb6",
   "metadata": {},
   "outputs": [],
   "source": [
    "# Generic imports\n",
    "import os\n",
    "from sklearn.datasets import load_wine\n",
    "from sklearn.model_selection import train_test_split\n",
    "from sklearn.preprocessing import StandardScaler\n",
    "from sklearn.ensemble import RandomForestClassifier\n",
    "from sklearn import metrics\n",
    "import pandas as pd \n",
    "import numpy as np\n",
    "from sklearn.utils import shuffle\n",
    "import seaborn as sns\n",
    "import matplotlib.pyplot as plt\n",
    "from pandas import DataFrame\n",
    "from joblib import dump, load\n",
    "\n",
    "# Loading dataset\n",
    "def load_wine_data()-> pd.DataFrame:\n",
    "    data = load_wine()\n",
    "    columns=data['feature_names']\n",
    "    df_X = pd.DataFrame(data=data['data'],columns=columns)\n",
    "    df_y = pd.DataFrame(data['target'], columns=[\"class\"])\n",
    "    df = pd.concat([df_X, df_y], axis=1)\n",
    "    df = df.loc[df['class']!=2]\n",
    "    df = shuffle(df, random_state=42).reset_index(0).drop(\"index\", axis=1)\n",
    "    return df"
   ]
  },
  {
   "cell_type": "code",
   "execution_count": null,
   "id": "dc20b003-26cd-4716-8e99-5db92eeebe7e",
   "metadata": {},
   "outputs": [],
   "source": [
    "df = load_wine_data()\n",
    "X = np.array(df.iloc[:,:-1])\n",
    "y = np.array(df['class'])\n",
    "X_train, X_test, y_train, y_test = train_test_split(X, y, test_size=0.2, random_state=42)"
   ]
  },
  {
   "cell_type": "markdown",
   "id": "44d45040-0153-400a-b8aa-05a1ef0c7665",
   "metadata": {},
   "source": [
    "## Instantiate Comet Experiment Object"
   ]
  },
  {
   "cell_type": "code",
   "execution_count": null,
   "id": "c4efe228-d967-47d0-9c8f-4345264ddeec",
   "metadata": {},
   "outputs": [],
   "source": [
    "exp = Experiment(api_key = os.environ['COMET_API_KEY'],\n",
    "                 # Assign project name\n",
    "                 project_name='ds_example',\n",
    "                 # enable code logging\n",
    "                 log_code=True,\n",
    "                 #only records output made by Python code\n",
    "                 auto_output_logging='simple',\n",
    "                 # enables gpu metric tracking\n",
    "                 log_env_gpu=False,\n",
    "                 # enables cpu metric tracking\n",
    "                 log_env_cpu=True,\n",
    "                 # enable git metatata collection\n",
    "                 log_git_metadata=True,\n",
    "                 # log host info\n",
    "                 log_env_host=True,\n",
    "                 # automatically tracks the CO2 emission of this experiment \n",
    "                 auto_log_co2=True,\n",
    "                 # hyper paramater logging\n",
    "                 auto_param_logging=True)"
   ]
  },
  {
   "cell_type": "markdown",
   "id": "18587487-f1a2-460e-9d99-c6e3b7608144",
   "metadata": {},
   "source": [
    "# EDA"
   ]
  },
  {
   "cell_type": "code",
   "execution_count": null,
   "id": "25ccf0c3-0ef7-4590-82cd-3f0a98593c75",
   "metadata": {},
   "outputs": [],
   "source": [
    "def plot_corr_heatmap(df: DataFrame, exp: Experiment)->None:\n",
    "    plt.figure(figsize=(16, 6))\n",
    "    mask = np.triu(np.ones_like(df.corr(), dtype=np.bool))\n",
    "    heatmap = sns.heatmap(df.corr(), mask=mask, vmin=-1, vmax=1, annot=True, cmap='BuPu')\n",
    "    heatmap.set_title('Triangle Correlation Heatmap', fontdict={'fontsize':18}, pad=16);\n",
    "    exp.log_figure(\"corr_heat_map\", plt)\n",
    "    return None"
   ]
  },
  {
   "cell_type": "code",
   "execution_count": null,
   "id": "450e2c74-e612-471a-85f6-cb74256a56a2",
   "metadata": {},
   "outputs": [],
   "source": [
    "plot_corr_heatmap(df, exp)"
   ]
  },
  {
   "cell_type": "code",
   "execution_count": null,
   "id": "63df35dd-2171-4e6f-9d0c-04ea56ccb849",
   "metadata": {},
   "outputs": [],
   "source": [
    "def plot_scatter(df: DataFrame, exp:Experiment)->None:\n",
    "    plt.figure(figsize=(16, 6))\n",
    "    df_0 = df.loc[df['class']==0]\n",
    "    df_1 = df.loc[df['class']==1]\n",
    "    \n",
    "    x1 = df_0[\"alcohol\"]\n",
    "    y1 = df_0[\"color_intensity\"]\n",
    "    \n",
    "    x2 = df_1[\"alcohol\"]\n",
    "    y2 = df_1[\"color_intensity\"]\n",
    "    \n",
    "    plt.scatter(x1,y1,color=\"seagreen\", label=\"Class 0\", alpha = 0.8)\n",
    "    plt.scatter(x2,y2,color=\"purple\", label=\"Class 1\", alpha = 0.8)\n",
    "    plt.grid()\n",
    "    plt.legend(loc=\"best\")\n",
    "    plt.xlabel(\"Alcohol\")\n",
    "    plt.ylabel(\"Color Intensity\")\n",
    "    plt.title(\"Alcohol vs Color Intensity\")\n",
    "    \n",
    "    exp.log_figure(\"scatter\", plt)\n",
    "    return None"
   ]
  },
  {
   "cell_type": "code",
   "execution_count": null,
   "id": "7ac44aa7-31b0-4216-b4ac-190926a5b346",
   "metadata": {},
   "outputs": [],
   "source": [
    "plot_scatter(df, exp)"
   ]
  },
  {
   "cell_type": "markdown",
   "id": "6d5b5420-c6fc-44e0-9281-71f5252e0856",
   "metadata": {},
   "source": [
    "# Data Prep"
   ]
  },
  {
   "cell_type": "code",
   "execution_count": null,
   "id": "a09bde54-82a5-471f-934e-2d6cafd41839",
   "metadata": {},
   "outputs": [],
   "source": [
    "scaler = StandardScaler()\n",
    "X_train_= scaler.fit_transform(X_train)\n",
    "X_test = scaler.transform(X_test)"
   ]
  },
  {
   "cell_type": "markdown",
   "id": "26b64fbf-69ed-4bd7-9927-7b3b231f1495",
   "metadata": {},
   "source": [
    "# Training & Testing"
   ]
  },
  {
   "cell_type": "code",
   "execution_count": null,
   "id": "8a98ef6e-48ea-46aa-be61-fcf3cd1ad81f",
   "metadata": {},
   "outputs": [],
   "source": [
    "params = {\n",
    "    'n_estimators': 50,\n",
    "     'max_depth': 5\n",
    "}"
   ]
  },
  {
   "cell_type": "code",
   "execution_count": null,
   "id": "eccf60eb-d606-429c-b2bb-da54a369eec9",
   "metadata": {},
   "outputs": [],
   "source": [
    "#Create a Gaussian Classifier\n",
    "clf=RandomForestClassifier(n_estimators=params['n_estimators'], max_depth=params['max_depth'])\n",
    "\n",
    "#Train the model using the training sets y_pred=clf.predict(X_test)\n",
    "clf.fit(X_train,y_train)\n",
    "y_pred=clf.predict(X_test)"
   ]
  },
  {
   "cell_type": "code",
   "execution_count": null,
   "id": "aeb7df6a-82bf-44c4-b323-6600956bc8c8",
   "metadata": {},
   "outputs": [],
   "source": [
    "f1 = metrics.f1_score(y_test, y_pred)\n",
    "precision =metrics.precision_score(y_test, y_pred)\n",
    "recall = metrics.recall_score(y_test, y_pred)\n",
    "accuracy = metrics.accuracy_score(y_test, y_pred)\n",
    "\n",
    "print(\"Accuracy:\",accuracy )\n",
    "print(\"Recall:\",recall)\n",
    "print(\"Precision:\",precision)\n",
    "print(\"f1:\",f1)"
   ]
  },
  {
   "cell_type": "markdown",
   "id": "91586dc9-d1e7-42ef-9183-7cef424c8ef9",
   "metadata": {},
   "source": [
    "# Storing Metrics and Paramters"
   ]
  },
  {
   "cell_type": "code",
   "execution_count": null,
   "id": "7a1ecfd9-0eda-4870-8558-8080dcbffc22",
   "metadata": {},
   "outputs": [],
   "source": [
    "# Store Metrics as dicttionay object \n",
    "metrics = {\"f1\":f1,\n",
    "\"recall\":recall,\n",
    "\"precision\":precision,\n",
    "\"accuracy\": accuracy\n",
    "}"
   ]
  },
  {
   "cell_type": "code",
   "execution_count": null,
   "id": "ccce5905-d1cf-4a50-9508-38e9f6e3a100",
   "metadata": {},
   "outputs": [],
   "source": [
    "exp.log_dataset_hash(X_train)\n",
    "exp.log_parameters(params)\n",
    "exp.log_metrics(metrics)"
   ]
  },
  {
   "cell_type": "markdown",
   "id": "d8030e44-a470-41b0-9691-86399c9484d1",
   "metadata": {},
   "source": [
    "# Confusion Matrix"
   ]
  },
  {
   "cell_type": "code",
   "execution_count": null,
   "id": "b92cd625-2e90-43e0-bdc2-7302e09a3654",
   "metadata": {},
   "outputs": [],
   "source": [
    "desired_output=y_test\n",
    "actual_output=y_pred\n",
    "exp.log_confusion_matrix(desired_output, actual_output);"
   ]
  },
  {
   "cell_type": "markdown",
   "id": "945b157f-2848-42f6-9378-c655670b0d6c",
   "metadata": {},
   "source": [
    "# Storing Artifacts"
   ]
  },
  {
   "cell_type": "code",
   "execution_count": null,
   "id": "92b99976-bf15-4c0b-887d-6844a6796474",
   "metadata": {},
   "outputs": [],
   "source": [
    "dump(clf, 'artifacts/clf.joblib')"
   ]
  },
  {
   "cell_type": "code",
   "execution_count": null,
   "id": "b7a1a6e3-5df5-4628-aff7-a6c2bc8f3356",
   "metadata": {},
   "outputs": [],
   "source": [
    "artifact = Artifact(\"rf_model\", \"model\")\n",
    "artifact.add('artifacts/clf.joblib')\n",
    "exp.log_artifact(artifact)"
   ]
  },
  {
   "cell_type": "markdown",
   "id": "3e3bd27a-735e-4d9e-9708-07f4a0cfb942",
   "metadata": {},
   "source": [
    "### End Experiment "
   ]
  },
  {
   "cell_type": "code",
   "execution_count": null,
   "id": "a188fff6-24dd-482c-9758-6348af94b2e4",
   "metadata": {},
   "outputs": [],
   "source": [
    "exp.end()"
   ]
  },
  {
   "cell_type": "markdown",
   "id": "92de1839-ffcb-4ce7-9af1-ce81fc597277",
   "metadata": {},
   "source": [
    "# ------------------------------------------------------------------------------------------------------------------------------"
   ]
  },
  {
   "cell_type": "markdown",
   "id": "74eb6ce5-b85b-477b-b7c9-85b08e0bbc81",
   "metadata": {},
   "source": [
    "# DE Example "
   ]
  },
  {
   "cell_type": "code",
   "execution_count": null,
   "id": "d870fc24-82aa-4800-ad1f-ffd4c85d40ef",
   "metadata": {},
   "outputs": [],
   "source": [
    "import time\n",
    "from datetime import datetime\n",
    "from random import randint\n",
    "from time import sleep"
   ]
  },
  {
   "cell_type": "code",
   "execution_count": null,
   "id": "04b678da-8897-45f3-a9fb-2a31ad5d5499",
   "metadata": {},
   "outputs": [],
   "source": [
    "exp = Experiment(api_key = os.environ['COMET_API_KEY'],\n",
    "                 # Assign project name\n",
    "                 project_name='de_example',\n",
    "                 # enable code logging\n",
    "                 log_code=True,\n",
    "                 #only records output made by Python code\n",
    "                 auto_output_logging='simple',\n",
    "                 # enables gpu metric tracking\n",
    "                 log_env_gpu=False,\n",
    "                 # enables cpu metric tracking\n",
    "                 log_env_cpu=True,\n",
    "                 # enable git metatata collection\n",
    "                 log_git_metadata=True,\n",
    "                 # log host info\n",
    "                 log_env_host=True,\n",
    "                 # automatically tracks the CO2 emission of this experiment \n",
    "                 auto_log_co2=True,\n",
    "                 # hyper paramater logging\n",
    "                 auto_param_logging=True)"
   ]
  },
  {
   "cell_type": "markdown",
   "id": "ebae439f-1835-4596-8fda-33ec749184d4",
   "metadata": {},
   "source": [
    "# Transformations - for example only!"
   ]
  },
  {
   "cell_type": "code",
   "execution_count": null,
   "id": "e7dedbc1-6616-4494-b7f4-b3a17ef5e569",
   "metadata": {},
   "outputs": [],
   "source": [
    "def wait(df:DataFrame)->DataFrame:\n",
    "    sleep(randint(3,6))\n",
    "    return df\n",
    "\n",
    "def sample(df:DataFrame)->DataFrame:\n",
    "    sleep(randint(1,2))\n",
    "    return df.sample(50)\n",
    "\n",
    "def new_feature(df:DataFrame)->DataFrame:\n",
    "    df[\"new_feature\"]=df[\"alcohol\"]\n",
    "    return df"
   ]
  },
  {
   "cell_type": "code",
   "execution_count": null,
   "id": "d0bcca6c-6c8c-4289-8b65-ddb1eb9e372a",
   "metadata": {},
   "outputs": [],
   "source": [
    "run_date = str(datetime.date(datetime.now()))\n",
    "start = time.time()\n",
    "\n",
    "# Extract Data \n",
    "df = load_wine_data()\n",
    "vol_in = len(df)\n",
    "feats_in = len(df.columns)\n",
    "\n",
    "# Transform Data \n",
    "df = df.pipe(wait)\\\n",
    "       .pipe(sample)\\\n",
    "       .pipe(new_feature)\\\n",
    "\n",
    "# Load (in this case write to disk)\n",
    "vol_out = len(df)\n",
    "feats_out = len(df.columns)\n",
    "dump(df, \"df_out.joblib\")\n",
    "end = time.time()\n",
    "execution_time = end - start"
   ]
  },
  {
   "cell_type": "code",
   "execution_count": null,
   "id": "83f53fdb-4ad0-484b-8648-0f7a4028030f",
   "metadata": {},
   "outputs": [],
   "source": [
    "params ={ \n",
    "    'source': 'database1.table1',\n",
    "    'target': 'database2.table2',\n",
    "    'run_date': run_date,\n",
    "    'version': 'v0.1'\n",
    "}"
   ]
  },
  {
   "cell_type": "code",
   "execution_count": null,
   "id": "eb9aa0ad-03eb-4368-9177-b663ca10797c",
   "metadata": {},
   "outputs": [],
   "source": [
    "metrics = {\n",
    "    'volumes_in': vol_in,\n",
    "    'volumes_out': vol_out,\n",
    "    'features_in': feats_in,\n",
    "    'features_out': feats_out,\n",
    "    'start_time':start,\n",
    "    'end_time':end,\n",
    "    'excution_time': execution_time \n",
    "}"
   ]
  },
  {
   "cell_type": "code",
   "execution_count": null,
   "id": "ee47a205-23d5-46fc-9566-8e08a0badaa5",
   "metadata": {},
   "outputs": [],
   "source": [
    "exp.log_parameters(params)\n",
    "exp.log_metrics(metrics)"
   ]
  },
  {
   "cell_type": "markdown",
   "id": "06ace17f-0d4c-48eb-bb99-8fbc62ac5b64",
   "metadata": {},
   "source": [
    "# End Experiment "
   ]
  },
  {
   "cell_type": "code",
   "execution_count": null,
   "id": "fc476b2d-64a3-46c7-ad9c-0d58eed28775",
   "metadata": {},
   "outputs": [],
   "source": [
    "exp.end()"
   ]
  }
 ],
 "metadata": {
  "kernelspec": {
   "display_name": "Python 3 (ipykernel)",
   "language": "python",
   "name": "python3"
  },
  "language_info": {
   "codemirror_mode": {
    "name": "ipython",
    "version": 3
   },
   "file_extension": ".py",
   "mimetype": "text/x-python",
   "name": "python",
   "nbconvert_exporter": "python",
   "pygments_lexer": "ipython3",
   "version": "3.10.5"
  }
 },
 "nbformat": 4,
 "nbformat_minor": 5
}
